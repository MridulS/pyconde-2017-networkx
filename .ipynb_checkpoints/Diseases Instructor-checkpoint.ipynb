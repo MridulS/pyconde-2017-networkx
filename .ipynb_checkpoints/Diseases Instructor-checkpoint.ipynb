{
 "cells": [
  {
   "cell_type": "markdown",
   "metadata": {},
   "source": [
    "## Diseases and spreading :/\n",
    "\n",
    "The SIR model is one of the simplest compartmental models, and many models are derivations of this basic form. The model consists of three compartments– S for the number susceptible, I for the number of infectious, and R for the number recovered (or immune). This model is reasonably predictive for infectious diseases which are transmitted from human to human, and where recovery confers lasting resistance, such as measles, mumps and rubella.\n",
    "\n",
    "![](images/sir-s.svg)\n",
    "![](images/sir-i.svg)\n",
    "![](images/sir-r.svg)"
   ]
  },
  {
   "cell_type": "markdown",
   "metadata": {},
   "source": [
    "for more info on network diffusion models in python checkout - NDlib - Network Diffusion Library\n",
    "\n",
    "https://github.com/GiulioRossetti/ndlib"
   ]
  },
  {
   "cell_type": "code",
   "execution_count": 4,
   "metadata": {},
   "outputs": [
    {
     "ename": "ModuleNotFoundError",
     "evalue": "No module named 'DiffusionViz'",
     "output_type": "error",
     "traceback": [
      "\u001b[0;31m---------------------------------------------------------------------------\u001b[0m",
      "\u001b[0;31mModuleNotFoundError\u001b[0m                       Traceback (most recent call last)",
      "\u001b[0;32m<ipython-input-4-15ed014d8011>\u001b[0m in \u001b[0;36m<module>\u001b[0;34m()\u001b[0m\n\u001b[1;32m      2\u001b[0m \u001b[0;32mimport\u001b[0m \u001b[0mndlib\u001b[0m\u001b[0;34m.\u001b[0m\u001b[0mmodels\u001b[0m\u001b[0;34m.\u001b[0m\u001b[0mepidemics\u001b[0m\u001b[0;34m.\u001b[0m\u001b[0mSIRModel\u001b[0m \u001b[0;32mas\u001b[0m \u001b[0msir\u001b[0m\u001b[0;34m\u001b[0m\u001b[0m\n\u001b[1;32m      3\u001b[0m \u001b[0;32mimport\u001b[0m \u001b[0mndlib\u001b[0m\u001b[0;34m.\u001b[0m\u001b[0mmodels\u001b[0m\u001b[0;34m.\u001b[0m\u001b[0mModelConfig\u001b[0m \u001b[0;32mas\u001b[0m \u001b[0mmc\u001b[0m\u001b[0;34m\u001b[0m\u001b[0m\n\u001b[0;32m----> 4\u001b[0;31m \u001b[0;32mfrom\u001b[0m \u001b[0mndlib\u001b[0m\u001b[0;34m.\u001b[0m\u001b[0mviz\u001b[0m\u001b[0;34m.\u001b[0m\u001b[0mmpl\u001b[0m\u001b[0;34m.\u001b[0m\u001b[0mDiffusionTrend\u001b[0m \u001b[0;32mimport\u001b[0m \u001b[0mDiffusionTrend\u001b[0m\u001b[0;34m\u001b[0m\u001b[0m\n\u001b[0m",
      "\u001b[0;32m/Users/mridulseth/dev/venv/system/lib/python3.6/site-packages/ndlib/viz/mpl/DiffusionTrend.py\u001b[0m in \u001b[0;36m<module>\u001b[0;34m()\u001b[0m\n\u001b[0;32m----> 1\u001b[0;31m \u001b[0;32mfrom\u001b[0m \u001b[0mDiffusionViz\u001b[0m \u001b[0;32mimport\u001b[0m \u001b[0mDiffusionPlot\u001b[0m\u001b[0;34m\u001b[0m\u001b[0m\n\u001b[0m\u001b[1;32m      2\u001b[0m \u001b[0;32mimport\u001b[0m \u001b[0mnumpy\u001b[0m \u001b[0;32mas\u001b[0m \u001b[0mnp\u001b[0m\u001b[0;34m\u001b[0m\u001b[0m\n\u001b[1;32m      3\u001b[0m \u001b[0;34m\u001b[0m\u001b[0m\n\u001b[1;32m      4\u001b[0m \u001b[0m__author__\u001b[0m \u001b[0;34m=\u001b[0m \u001b[0;34m'Giulio Rossetti'\u001b[0m\u001b[0;34m\u001b[0m\u001b[0m\n\u001b[1;32m      5\u001b[0m \u001b[0m__license__\u001b[0m \u001b[0;34m=\u001b[0m \u001b[0;34m\"GPL\"\u001b[0m\u001b[0;34m\u001b[0m\u001b[0m\n",
      "\u001b[0;31mModuleNotFoundError\u001b[0m: No module named 'DiffusionViz'"
     ]
    }
   ],
   "source": [
    "import networkx as nx\n",
    "import ndlib.models.epidemics.SIRModel as sir\n",
    "import ndlib.models.ModelConfig as mc\n",
    "from ndlib.viz.mpl.DiffusionTrend import DiffusionTrend"
   ]
  },
  {
   "cell_type": "code",
   "execution_count": 5,
   "metadata": {
    "collapsed": true
   },
   "outputs": [],
   "source": [
    "# Network Definition\n",
    "G = nx.erdos_renyi_graph(400, 0.1)\n",
    "\n",
    "# Model Selection\n",
    "model = sir.SIRModel(G)"
   ]
  },
  {
   "cell_type": "code",
   "execution_count": 6,
   "metadata": {
    "collapsed": true
   },
   "outputs": [],
   "source": [
    "# Model Configuration\n",
    "config = mc.Configuration()\n",
    "config.add_model_parameter('beta', 0.001)\n",
    "config.add_model_parameter('gamma', 0.01)\n",
    "config.add_model_parameter(\"percentage_infected\", 0.1)\n",
    "model.set_initial_status(config)"
   ]
  },
  {
   "cell_type": "code",
   "execution_count": 7,
   "metadata": {
    "collapsed": true
   },
   "outputs": [],
   "source": [
    "# Simulation\n",
    "iterations = model.iteration_bunch(200)\n",
    "trends = model.build_trends(iterations)"
   ]
  },
  {
   "cell_type": "code",
   "execution_count": 8,
   "metadata": {},
   "outputs": [
    {
     "ename": "NameError",
     "evalue": "name 'DiffusionTrend' is not defined",
     "output_type": "error",
     "traceback": [
      "\u001b[0;31m---------------------------------------------------------------------------\u001b[0m",
      "\u001b[0;31mNameError\u001b[0m                                 Traceback (most recent call last)",
      "\u001b[0;32m<ipython-input-8-7c89de2d7126>\u001b[0m in \u001b[0;36m<module>\u001b[0;34m()\u001b[0m\n\u001b[0;32m----> 1\u001b[0;31m \u001b[0mviz\u001b[0m \u001b[0;34m=\u001b[0m \u001b[0mDiffusionTrend\u001b[0m\u001b[0;34m(\u001b[0m\u001b[0mmodel\u001b[0m\u001b[0;34m,\u001b[0m \u001b[0mtrends\u001b[0m\u001b[0;34m)\u001b[0m\u001b[0;34m\u001b[0m\u001b[0m\n\u001b[0m\u001b[1;32m      2\u001b[0m \u001b[0mp\u001b[0m \u001b[0;34m=\u001b[0m \u001b[0mviz\u001b[0m\u001b[0;34m.\u001b[0m\u001b[0mplot\u001b[0m\u001b[0;34m(\u001b[0m\u001b[0;34m)\u001b[0m\u001b[0;34m\u001b[0m\u001b[0m\n",
      "\u001b[0;31mNameError\u001b[0m: name 'DiffusionTrend' is not defined"
     ]
    }
   ],
   "source": [
    "viz = DiffusionTrend(model, trends)\n",
    "p = viz.plot()"
   ]
  },
  {
   "cell_type": "markdown",
   "metadata": {},
   "source": [
    "What happens if we change the structure of this network?"
   ]
  },
  {
   "cell_type": "code",
   "execution_count": null,
   "metadata": {
    "collapsed": true
   },
   "outputs": [],
   "source": [
    "G = nx.erdos_renyi_graph(400, 0.7)\n",
    "model = sir.SIRModel(G)\n",
    "config = mc.Configuration()\n",
    "config.add_model_parameter('beta', 0.001)\n",
    "config.add_model_parameter('gamma', 0.01)\n",
    "config.add_model_parameter(\"percentage_infected\", 0.1)\n",
    "model.set_initial_status(config)\n",
    "iterations = model.iteration_bunch(200)\n",
    "trends = model.build_trends(iterations)\n",
    "viz = DiffusionTrend(model, trends)\n",
    "p = viz.plot()"
   ]
  },
  {
   "cell_type": "code",
   "execution_count": null,
   "metadata": {
    "collapsed": true
   },
   "outputs": [],
   "source": [
    "G = nx.barabasi_albert_graph(400, 40)\n",
    "model = sir.SIRModel(G)\n",
    "config = mc.Configuration()\n",
    "config.add_model_parameter('beta', 0.001)\n",
    "config.add_model_parameter('gamma', 0.01)\n",
    "config.add_model_parameter(\"percentage_infected\", 0.4)\n",
    "model.set_initial_status(config)\n",
    "iterations = model.iteration_bunch(200)\n",
    "trends = model.build_trends(iterations)\n",
    "viz = DiffusionTrend(model, trends)\n",
    "p = viz.plot()"
   ]
  },
  {
   "cell_type": "markdown",
   "metadata": {},
   "source": [
    "Does this also hold true for various other diffusion processes like computer viruses?\n",
    "\n",
    "Sure! why not?\n",
    "\n",
    "#### Exercise\n",
    "\n",
    "Let's take a dataset of autonomous systems, i.e to-be future IoT networks.\n",
    "\n",
    "The graph of routers comprising the Internet can be organized into sub-graphs called Autonomous Systems (AS). Each AS exchanges traffic flows with some neighbors (peers). We can construct a communication network of who-talks-to- whom from the BGP (Border Gateway Protocol) logs.\n",
    "\n",
    "source: http://snap.stanford.edu/data/as.html\n",
    "\n",
    "Create the a graph and run SIR model on the graph and plot the diffusion trend curve. Play around with various parameters :)\n",
    "\n",
    "Also look at the degree distribution of this network, what can we infer from this."
   ]
  },
  {
   "cell_type": "code",
   "execution_count": 9,
   "metadata": {
    "collapsed": true
   },
   "outputs": [],
   "source": [
    "import pandas as pd\n",
    "G = nx.Graph()\n",
    "for row in pd.read_csv('autosys.txt', delimiter='\\t').iterrows():\n",
    "    G.add_edge(row[1][0], row[1][1])"
   ]
  },
  {
   "cell_type": "code",
   "execution_count": 10,
   "metadata": {},
   "outputs": [
    {
     "ename": "NameError",
     "evalue": "name 'DiffusionTrend' is not defined",
     "output_type": "error",
     "traceback": [
      "\u001b[0;31m---------------------------------------------------------------------------\u001b[0m",
      "\u001b[0;31mNameError\u001b[0m                                 Traceback (most recent call last)",
      "\u001b[0;32m<ipython-input-10-93f576e8be58>\u001b[0m in \u001b[0;36m<module>\u001b[0;34m()\u001b[0m\n\u001b[1;32m      7\u001b[0m \u001b[0miterations\u001b[0m \u001b[0;34m=\u001b[0m \u001b[0mmodel\u001b[0m\u001b[0;34m.\u001b[0m\u001b[0miteration_bunch\u001b[0m\u001b[0;34m(\u001b[0m\u001b[0;36m500\u001b[0m\u001b[0;34m)\u001b[0m\u001b[0;34m\u001b[0m\u001b[0m\n\u001b[1;32m      8\u001b[0m \u001b[0mtrends\u001b[0m \u001b[0;34m=\u001b[0m \u001b[0mmodel\u001b[0m\u001b[0;34m.\u001b[0m\u001b[0mbuild_trends\u001b[0m\u001b[0;34m(\u001b[0m\u001b[0miterations\u001b[0m\u001b[0;34m)\u001b[0m\u001b[0;34m\u001b[0m\u001b[0m\n\u001b[0;32m----> 9\u001b[0;31m \u001b[0mviz\u001b[0m \u001b[0;34m=\u001b[0m \u001b[0mDiffusionTrend\u001b[0m\u001b[0;34m(\u001b[0m\u001b[0mmodel\u001b[0m\u001b[0;34m,\u001b[0m \u001b[0mtrends\u001b[0m\u001b[0;34m)\u001b[0m\u001b[0;34m\u001b[0m\u001b[0m\n\u001b[0m\u001b[1;32m     10\u001b[0m \u001b[0mp\u001b[0m \u001b[0;34m=\u001b[0m \u001b[0mviz\u001b[0m\u001b[0;34m.\u001b[0m\u001b[0mplot\u001b[0m\u001b[0;34m(\u001b[0m\u001b[0;34m)\u001b[0m\u001b[0;34m\u001b[0m\u001b[0m\n",
      "\u001b[0;31mNameError\u001b[0m: name 'DiffusionTrend' is not defined"
     ]
    }
   ],
   "source": [
    "model = sir.SIRModel(G)\n",
    "config = mc.Configuration()\n",
    "config.add_model_parameter('beta', 0.01)\n",
    "config.add_model_parameter('gamma', 0.01)\n",
    "config.add_model_parameter(\"percentage_infected\", 0.3)\n",
    "model.set_initial_status(config)\n",
    "iterations = model.iteration_bunch(500)\n",
    "trends = model.build_trends(iterations)\n",
    "viz = DiffusionTrend(model, trends)\n",
    "p = viz.plot()"
   ]
  },
  {
   "cell_type": "code",
   "execution_count": null,
   "metadata": {
    "collapsed": true
   },
   "outputs": [],
   "source": [
    "import matplotlib.pyplot as plt\n",
    "plt.hist(list(nx.pagerank(G).values()))\n",
    "plt.show()"
   ]
  },
  {
   "cell_type": "code",
   "execution_count": null,
   "metadata": {
    "collapsed": true
   },
   "outputs": [],
   "source": [
    "sorted(dict(nx.degree(G)).values(), reverse=True)"
   ]
  },
  {
   "cell_type": "code",
   "execution_count": null,
   "metadata": {
    "collapsed": true
   },
   "outputs": [],
   "source": []
  }
 ],
 "metadata": {
  "kernelspec": {
   "display_name": "Python 3",
   "language": "python",
   "name": "python3"
  },
  "language_info": {
   "codemirror_mode": {
    "name": "ipython",
    "version": 3
   },
   "file_extension": ".py",
   "mimetype": "text/x-python",
   "name": "python",
   "nbconvert_exporter": "python",
   "pygments_lexer": "ipython3",
   "version": "3.6.1"
  }
 },
 "nbformat": 4,
 "nbformat_minor": 2
}
