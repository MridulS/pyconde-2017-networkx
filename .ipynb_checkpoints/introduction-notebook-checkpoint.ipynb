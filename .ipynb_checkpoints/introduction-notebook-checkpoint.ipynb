{
 "cells": [
  {
   "cell_type": "code",
   "execution_count": 2,
   "metadata": {},
   "outputs": [],
   "source": [
    "import networkx as nx\n",
    "import matplotlib.pyplot as plt\n",
    "%matplotlib inline\n",
    "\n",
    "import numpy as np\n",
    "import pandas as pd"
   ]
  },
  {
   "cell_type": "code",
   "execution_count": 3,
   "metadata": {},
   "outputs": [
    {
     "name": "stdout",
     "output_type": "stream",
     "text": [
      "[0, 1, 2, 3, 4, 5, 6]\n",
      "['1', 1, 'second', 2, 3, 'node4', 0, 4, 5, 6]\n",
      "['1', 1, 'second', 2, 3, 'node4', 0, 4, 5, 6, <networkx.classes.graph.Graph object at 0x10a40b390>]\n",
      "11 11 11\n",
      "5 5\n",
      "['1', 1, 'second', 2, 3, 'node4', 0, 4, 5, 6, <networkx.classes.graph.Graph object at 0x10a40b390>]\n",
      "['1', 1, 'second', 2, 3, 'node4', 4, 5, 6, <networkx.classes.graph.Graph object at 0x10a40b390>]\n",
      "[('second', 'node4'), (2, 3), (4, 5)]\n",
      "[('second', 'node4'), (2, 3)]\n",
      "[] []\n"
     ]
    }
   ],
   "source": [
    "# Quick cheat sheet\n",
    "\n",
    "# Create an empty graph object with no nodes and edges.\n",
    "G = nx.Graph() # DiGraph, MultiGraph, MultiDiGraph\n",
    "\n",
    "## Add nodes to our graph object\n",
    "# In NetworkX, nodes can be any hashable object e.g. a text string, an image,\n",
    "# an XML object, another Graph, a customized node object, etc.\n",
    "\n",
    "G.add_node('1')\n",
    "G.add_node(1)\n",
    "G.add_node('second')\n",
    "\n",
    "# G.add_node({'dictionary': 'will throw error'})\n",
    "# G.add_node([1, 2])\n",
    "\n",
    "list_of_nodes = [1, 2, 3, 'node4']\n",
    "G.add_nodes_from(list_of_nodes)\n",
    "\n",
    "# Access nodes in a Graph object\n",
    "G.nodes()\n",
    "\n",
    "# NetworkX has a lot of graph generators path_graph is one of them.\n",
    "H = nx.path_graph(7)\n",
    "print(H.nodes())\n",
    "\n",
    "\n",
    "G.add_nodes_from(H)\n",
    "print(G.nodes())\n",
    "\n",
    "\n",
    "G.add_node(H)\n",
    "print(G.nodes())\n",
    "\n",
    "# Now let's talk about edges.\n",
    "# Edge between two nodes means that they share some property/relationship\n",
    "# G.add_node(H)\n",
    "G.add_edge(0, 'second')\n",
    "G.add_edge(2, 3)\n",
    "G.add_edge('second', 'node4')\n",
    "\n",
    "list_of_edges = [(2, 3), (4, 5), ('node4', 0)]\n",
    "G.add_edges_from(list_of_edges)\n",
    "\n",
    "# Check out edges\n",
    "G.edges()\n",
    "\n",
    "# Number of nodes and edges.\n",
    "print(G.number_of_nodes(), len(G), len(G.nodes()))\n",
    "print(G.number_of_edges(), len(G.edges()))\n",
    "\n",
    "print(G.nodes())\n",
    "G.remove_node(0)\n",
    "print(G.nodes())\n",
    "\n",
    "print(G.edges())\n",
    "G.remove_edge(4, 5)\n",
    "print(G.edges())\n",
    "\n",
    "G.clear()\n",
    "print(G.nodes(), G.edges())"
   ]
  },
  {
   "cell_type": "code",
   "execution_count": 4,
   "metadata": {},
   "outputs": [
    {
     "name": "stdout",
     "output_type": "stream",
     "text": [
      "[0, 1, 2, 3, 4, 5, 6, 7, 8, 9]\n",
      "[(0, 1), (0, 9), (1, 2), (1, 6), (2, 5), (2, 6), (3, 6), (5, 6), (6, 7), (7, 8)]\n"
     ]
    },
    {
     "data": {
      "image/png": "[encoded data removed]",
      "text/plain": [
       "<matplotlib.figure.Figure at 0x10a40b0b8>"
      ]
     },
     "metadata": {},
     "output_type": "display_data"
    }
   ],
   "source": [
    "# One more graph generator\n",
    "G = nx.erdos_renyi_graph(10, 0.2, seed=1)\n",
    "# Let's checkout nodes and edges\n",
    "print(G.nodes())\n",
    "print(G.edges())\n",
    "\n",
    "nx.draw(G)"
   ]
  },
  {
   "cell_type": "code",
   "execution_count": 5,
   "metadata": {},
   "outputs": [
    {
     "data": {
      "image/png": "[encoded data removed]",
      "text/plain": [
       "<matplotlib.figure.Figure at 0x10a4bbb00>"
      ]
     },
     "metadata": {},
     "output_type": "display_data"
    }
   ],
   "source": [
    "matrix = nx.to_numpy_matrix(G)\n",
    "\n",
    "# print matrix\n",
    "\n",
    "fig = plt.figure()\n",
    "ax = fig.add_subplot(1,1,1)\n",
    "ax.set_aspect('equal')\n",
    "plt.imshow(matrix, interpolation='nearest', cmap=plt.cm.gray)\n",
    "plt.show()\n"
   ]
  },
  {
   "cell_type": "code",
   "execution_count": null,
   "metadata": {
    "collapsed": true
   },
   "outputs": [],
   "source": [
    "# Adding attributes to graphs, nodes, and edges.\n",
    "\n",
    "\n",
    "# Add node attributes\n",
    "\n",
    "\n",
    "# use data=True while using G.nodes()\n",
    "\n"
   ]
  },
  {
   "cell_type": "code",
   "execution_count": null,
   "metadata": {
    "collapsed": true
   },
   "outputs": [],
   "source": [
    "# Add a weight attribute using G.add_edge()\n",
    "\n",
    "\n",
    "# Add a color attribute for all the edges using G.add_edges_from()\n",
    "list_of_edges = [(3, 4), (4, 5)]\n",
    "\n",
    "\n",
    "# Add different attributes for edges, color for one and weight for another using attr dictionary.\n",
    "\n",
    "\n",
    "# Add attributes by accessing the nested dictionary structure\n"
   ]
  },
  {
   "cell_type": "code",
   "execution_count": null,
   "metadata": {
    "collapsed": true
   },
   "outputs": [],
   "source": [
    "# Access the graph dictionary using G['node1'], G['node1']['node2'] and G['node1']['node2']['attr']\n",
    "\n"
   ]
  },
  {
   "cell_type": "markdown",
   "metadata": {},
   "source": [
    "### Exercise - 1"
   ]
  },
  {
   "cell_type": "code",
   "execution_count": null,
   "metadata": {
    "collapsed": true
   },
   "outputs": [],
   "source": [
    "G = nx.Graph()\n",
    "list_of_cities = [('Paris', 'Munich', 841), ('Munich', 'Berlin', 584), ('Berlin', 'London', 1101), ('Paris', 'Barcelona', 1038)]\n",
    "G.add_weighted_edges_from(list_of_cities)\n",
    "\n",
    "# Iterate through the edges and find the highest weight.\n",
    "\n"
   ]
  },
  {
   "cell_type": "code",
   "execution_count": null,
   "metadata": {
    "collapsed": true
   },
   "outputs": [],
   "source": [
    "# Create a random erdos reyni graph\n",
    "G = nx.erdos_renyi_graph(20, 0.2, seed=1)"
   ]
  },
  {
   "cell_type": "code",
   "execution_count": null,
   "metadata": {
    "collapsed": true
   },
   "outputs": [],
   "source": [
    "# draw the graph using nx.draw and with labels\n"
   ]
  },
  {
   "cell_type": "code",
   "execution_count": null,
   "metadata": {
    "collapsed": true
   },
   "outputs": [],
   "source": [
    "# find the number of neighbors of a node\n"
   ]
  },
  {
   "cell_type": "code",
   "execution_count": null,
   "metadata": {
    "collapsed": true
   },
   "outputs": [],
   "source": [
    "# find the degree centrality of first 5 nodes in the network\n"
   ]
  },
  {
   "cell_type": "code",
   "execution_count": null,
   "metadata": {
    "collapsed": true
   },
   "outputs": [],
   "source": [
    "# Import and create a networkx graph from Arxiv GR-QC (General Relativity and Quantum Cosmology) collaboration network.\n",
    "\n",
    "import csv\n",
    "authors_graph = nx.Graph()\n",
    "with open('CA-GrQc.txt', 'r') as f:\n",
    "    reader = csv.reader(f, delimiter='\\t')\n",
    "    for row in reader:\n",
    "        authors_graph.add_edge(row[0], row[1])"
   ]
  },
  {
   "cell_type": "code",
   "execution_count": null,
   "metadata": {
    "collapsed": true
   },
   "outputs": [],
   "source": [
    "# print the number of nodes and edges of this network\n"
   ]
  },
  {
   "cell_type": "code",
   "execution_count": null,
   "metadata": {
    "collapsed": true
   },
   "outputs": [],
   "source": [
    "# Print the neighbors of a node and print the degree of the node using len() and nx.degree()\n"
   ]
  },
  {
   "cell_type": "markdown",
   "metadata": {},
   "source": [
    "### Exercise - 2\n",
    "\n",
    "Create a list of (node, degree of node) tuples and find the node with maximum degree."
   ]
  },
  {
   "cell_type": "code",
   "execution_count": null,
   "metadata": {
    "collapsed": true
   },
   "outputs": [],
   "source": [
    "# nx.degree_centrality(authors_graph)\n",
    "# authors_graph.degree()\n"
   ]
  },
  {
   "cell_type": "code",
   "execution_count": null,
   "metadata": {
    "collapsed": true
   },
   "outputs": [],
   "source": []
  },
  {
   "cell_type": "code",
   "execution_count": null,
   "metadata": {
    "collapsed": true
   },
   "outputs": [],
   "source": []
  },
  {
   "cell_type": "markdown",
   "metadata": {},
   "source": [
    "### Exercise - 3\n",
    "\n",
    "Plot degree centrality of authors_graph.\n",
    "\n",
    "(count vs degree centrality)"
   ]
  },
  {
   "cell_type": "code",
   "execution_count": null,
   "metadata": {
    "collapsed": true
   },
   "outputs": [],
   "source": []
  },
  {
   "cell_type": "code",
   "execution_count": null,
   "metadata": {
    "collapsed": true
   },
   "outputs": [],
   "source": []
  },
  {
   "cell_type": "code",
   "execution_count": null,
   "metadata": {
    "collapsed": true
   },
   "outputs": [],
   "source": [
    "# Plot degree centrality of various graph generators\n",
    "\n",
    "G = nx.erdos_renyi_graph(1000, 0.9, seed=1)\n",
    "H = nx.barabasi_albert_graph(1000, 30, 0.3)\n",
    "K = nx.powerlaw_cluster_graph(1000, 30, 0.3)"
   ]
  },
  {
   "cell_type": "code",
   "execution_count": null,
   "metadata": {
    "collapsed": true
   },
   "outputs": [],
   "source": [
    "# plt.hist(list(nx.degree_centrality(G).values()))\n",
    "# plt.show()"
   ]
  },
  {
   "cell_type": "code",
   "execution_count": null,
   "metadata": {
    "collapsed": true
   },
   "outputs": [],
   "source": []
  },
  {
   "cell_type": "code",
   "execution_count": null,
   "metadata": {
    "collapsed": true
   },
   "outputs": [],
   "source": []
  },
  {
   "cell_type": "code",
   "execution_count": null,
   "metadata": {
    "collapsed": true
   },
   "outputs": [],
   "source": []
  },
  {
   "cell_type": "code",
   "execution_count": null,
   "metadata": {},
   "outputs": [],
   "source": [
    "# Connected components of a graph.\n",
    "print([len(c) for c in sorted(nx.connected_components(authors_graph), key=len, reverse=True)])"
   ]
  },
  {
   "cell_type": "code",
   "execution_count": null,
   "metadata": {
    "collapsed": true
   },
   "outputs": [],
   "source": [
    "# Connected component subgraphs of a graph. Returns a generator of subgraphs.\n",
    "graphs = [c for c in sorted(nx.connected_component_subgraphs(authors_graph), key=len, reverse=True)]"
   ]
  },
  {
   "cell_type": "code",
   "execution_count": null,
   "metadata": {
    "collapsed": true
   },
   "outputs": [],
   "source": []
  },
  {
   "cell_type": "code",
   "execution_count": null,
   "metadata": {
    "collapsed": true
   },
   "outputs": [],
   "source": []
  },
  {
   "cell_type": "markdown",
   "metadata": {},
   "source": [
    "### Excersise - 4\n",
    "##### Six degrees of separation, Erdos Number, Bacon Number!!\n",
    "\n",
    "Find the '22504' number of the graph G, if there is no connection between nodes then give it the number `-1`.\n",
    "Also plot a histogram of the '22504' number.\n",
    "\n",
    "Find the average shortest path length in the first component i.e. graphs[0]\n",
    "\n",
    "\n",
    "HINT: `nx.shortest_path_length`"
   ]
  },
  {
   "cell_type": "code",
   "execution_count": null,
   "metadata": {
    "collapsed": true
   },
   "outputs": [],
   "source": []
  },
  {
   "cell_type": "code",
   "execution_count": null,
   "metadata": {
    "collapsed": true
   },
   "outputs": [],
   "source": []
  },
  {
   "cell_type": "code",
   "execution_count": null,
   "metadata": {
    "collapsed": true
   },
   "outputs": [],
   "source": []
  },
  {
   "cell_type": "code",
   "execution_count": null,
   "metadata": {
    "collapsed": true
   },
   "outputs": [],
   "source": []
  },
  {
   "cell_type": "markdown",
   "metadata": {},
   "source": [
    "### Directed Graphs"
   ]
  },
  {
   "cell_type": "code",
   "execution_count": null,
   "metadata": {
    "collapsed": true
   },
   "outputs": [],
   "source": [
    "# Create a DiGraph object and add edges to it to make a star graph.\n",
    "\n",
    "list_of_edges = [(1, 2), (3, 2), (4, 2), (5, 2), (6, 2), (7, 2)]\n"
   ]
  },
  {
   "cell_type": "code",
   "execution_count": null,
   "metadata": {
    "collapsed": true
   },
   "outputs": [],
   "source": []
  }
 ],
 "metadata": {
  "kernelspec": {
   "display_name": "Python 3",
   "language": "python",
   "name": "python3"
  },
  "language_info": {
   "codemirror_mode": {
    "name": "ipython",
    "version": 3
   },
   "file_extension": ".py",
   "mimetype": "text/x-python",
   "name": "python",
   "nbconvert_exporter": "python",
   "pygments_lexer": "ipython3",
   "version": "3.6.1"
  }
 },
 "nbformat": 4,
 "nbformat_minor": 1
}
