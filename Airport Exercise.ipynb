{
 "cells": [
  {
   "cell_type": "markdown",
   "metadata": {},
   "source": [
    "## Exploratory analysis of the US Airport Dataset\n",
    "\n",
    "This dataset contains data for 5 years[1995, 2000, 2005, 2010, 2015] of flights between various US airports and the carrier on those routes.\n",
    "\n",
    "Let's see what can we make out of this!"
   ]
  },
  {
   "cell_type": "code",
   "execution_count": null,
   "metadata": {
    "collapsed": true
   },
   "outputs": [],
   "source": [
    "import networkx as nx\n",
    "import pandas as pd\n",
    "air_data = pd.read_csv('dump_output.csv')"
   ]
  },
  {
   "cell_type": "markdown",
   "metadata": {},
   "source": [
    "We create 5 graphs (one for each year), it may take a couple of minutes to load all the graphs."
   ]
  },
  {
   "cell_type": "code",
   "execution_count": null,
   "metadata": {
    "collapsed": true
   },
   "outputs": [],
   "source": [
    "air_graph_1995 = air_data[air_data.YEAR == 1995]\n",
    "G_1995 = nx.DiGraph()\n",
    "for row in air_graph_1995.iterrows():\n",
    "    G_1995.add_edge(row[1].ORIGIN, row[1].DEST)"
   ]
  },
  {
   "cell_type": "code",
   "execution_count": null,
   "metadata": {
    "collapsed": true
   },
   "outputs": [],
   "source": [
    "air_graph_2000 = air_data[air_data.YEAR == 2000]\n",
    "G_2000 = nx.DiGraph()\n",
    "for row in air_graph_2000.iterrows():\n",
    "    G_2000.add_edge(row[1].ORIGIN, row[1].DEST)"
   ]
  },
  {
   "cell_type": "code",
   "execution_count": null,
   "metadata": {
    "collapsed": true
   },
   "outputs": [],
   "source": [
    "air_graph_2005 = air_data[air_data.YEAR == 2005]\n",
    "G_2005 = nx.DiGraph()\n",
    "for row in air_graph_2005.iterrows():\n",
    "    G_2005.add_edge(row[1].ORIGIN, row[1].DEST)"
   ]
  },
  {
   "cell_type": "code",
   "execution_count": null,
   "metadata": {
    "collapsed": true
   },
   "outputs": [],
   "source": [
    "air_graph_2010 = air_data[air_data.YEAR == 2010]\n",
    "G_2010 = nx.DiGraph()\n",
    "for row in air_graph_2010.iterrows():\n",
    "    G_2010.add_edge(row[1].ORIGIN, row[1].DEST)"
   ]
  },
  {
   "cell_type": "code",
   "execution_count": null,
   "metadata": {
    "collapsed": true
   },
   "outputs": [],
   "source": [
    "air_graph_2015 = air_data[air_data.YEAR == 2015]\n",
    "G_2015 = nx.DiGraph()\n",
    "for row in air_graph_2015.iterrows():\n",
    "    G_2015.add_edge(row[1].ORIGIN, row[1].DEST)"
   ]
  },
  {
   "cell_type": "markdown",
   "metadata": {},
   "source": [
    "So let's have a look at the important nodes in this network, i.e. important airports in this network. We'll use pagerank, betweenness centrality and degree centrality."
   ]
  },
  {
   "cell_type": "code",
   "execution_count": null,
   "metadata": {
    "scrolled": true
   },
   "outputs": [],
   "source": [
    "sorted(nx.pagerank(G_2015).items(), key=lambda x:x[1], reverse=True)[0:10]"
   ]
  },
  {
   "cell_type": "code",
   "execution_count": null,
   "metadata": {
    "collapsed": true
   },
   "outputs": [],
   "source": [
    "# Find the betweenness_centrality and sort the result to get the top 10 nodes\n"
   ]
  },
  {
   "cell_type": "code",
   "execution_count": null,
   "metadata": {
    "collapsed": true
   },
   "outputs": [],
   "source": [
    "# Find the degree_centrality and sort the result to get the top 10 nodes\n"
   ]
  },
  {
   "cell_type": "markdown",
   "metadata": {},
   "source": [
    "'ANC' is the airport code of Anchorage airport, a place in Alaska, and according to pagerank and betweenness centrality it is the most important airport in this network Isn't that weird? Thoughts?\n",
    "\n",
    "related blog post: https://toreopsahl.com/2011/08/12/why-anchorage-is-not-that-important-binary-ties-and-sample-selection/"
   ]
  },
  {
   "cell_type": "markdown",
   "metadata": {},
   "source": [
    "Let's find the airline which operates the most routes every year? The thing to take into account is routes not flights as this dataset gives us the routes."
   ]
  },
  {
   "cell_type": "code",
   "execution_count": null,
   "metadata": {
    "collapsed": true
   },
   "outputs": [],
   "source": [
    "airline = [(i, air_data[air_data.YEAR == i].UNIQUE_CARRIER_NAME.value_counts()[0:5].reset_index(\n",
    ").rename(columns={0: 'Airline', 'UNIQUE_CARRIER_NAME': 'count'})) for i in [1995, 2000, 2005, 2010, 2015]]"
   ]
  },
  {
   "cell_type": "code",
   "execution_count": null,
   "metadata": {},
   "outputs": [],
   "source": [
    "# count of routes of top 5 airlines of each year\n",
    "airline"
   ]
  },
  {
   "cell_type": "code",
   "execution_count": null,
   "metadata": {},
   "outputs": [],
   "source": [
    "import matplotlib.pyplot as plt\n",
    "%matplotlib inline\n",
    "\n",
    "# dictionary to store data to plot\n",
    "d = {}\n",
    "for i, year in airline:\n",
    "    for row in year.iterrows():\n",
    "        if row[1][0] in d:\n",
    "            d[row[1][0]].append((i, row[1][1]))\n",
    "        else:\n",
    "            d[row[1][0]] = [(i, row[1][1])]\n",
    "            \n",
    "plt.figure(num=None, figsize=(10,8), dpi=80, facecolor='w', edgecolor='k')\n",
    "labels = []\n",
    "for i, j in d.items():\n",
    "    year = [k for k, l in j]\n",
    "    per = [l for k,l in j]\n",
    "    plt.plot(year, per)\n",
    "    labels.append(i)\n",
    "plt.legend(labels, ncol=4, loc='upper center', \n",
    "           bbox_to_anchor=[0.5, 1.1], \n",
    "           columnspacing=1.0, labelspacing=0.0,\n",
    "           handletextpad=0.0, handlelength=1.5,\n",
    "           fancybox=True, shadow=True)"
   ]
  },
  {
   "cell_type": "markdown",
   "metadata": {},
   "source": [
    "#### Exercise\n",
    "\n",
    "Find out the hubs of Delta Air Lines Inc, United Air Lines Inc and Southwest Airlines Co. in this network by measuring the flights that fly out of the airport "
   ]
  },
  {
   "cell_type": "code",
   "execution_count": null,
   "metadata": {
    "collapsed": true
   },
   "outputs": [],
   "source": []
  },
  {
   "cell_type": "code",
   "execution_count": null,
   "metadata": {
    "collapsed": true
   },
   "outputs": [],
   "source": []
  },
  {
   "cell_type": "markdown",
   "metadata": {},
   "source": [
    "Average shortest path lenght of this network?"
   ]
  },
  {
   "cell_type": "code",
   "execution_count": null,
   "metadata": {},
   "outputs": [],
   "source": [
    "nx.average_shortest_path_length(G_2015)"
   ]
  },
  {
   "cell_type": "markdown",
   "metadata": {},
   "source": [
    "A Graph is connected if there is only one component. A directed graph is strongly connected if every node is reachable from every other node, and is weakly connected if the undirected copy of the graph is connected."
   ]
  },
  {
   "cell_type": "code",
   "execution_count": null,
   "metadata": {},
   "outputs": [],
   "source": [
    "nx.is_weakly_connected(G_2015)"
   ]
  },
  {
   "cell_type": "markdown",
   "metadata": {},
   "source": [
    "What does it mean? The airport datasets has components that an unreachable from each other. Well that's a problem!"
   ]
  },
  {
   "cell_type": "code",
   "execution_count": null,
   "metadata": {
    "collapsed": true
   },
   "outputs": [],
   "source": [
    "# list the connected components of the graph G_2015 (use to_undirected)\n"
   ]
  },
  {
   "cell_type": "markdown",
   "metadata": {},
   "source": [
    "What are the components? A single airport and a component of two airports?\n",
    "\n",
    "Let's remove these nodes from the network so that we can find the avg shortest path length of this graph."
   ]
  },
  {
   "cell_type": "code",
   "execution_count": null,
   "metadata": {
    "collapsed": true
   },
   "outputs": [],
   "source": [
    "G_2015.remove_nodes_from(['AIK', 'SPB', 'SSB'])"
   ]
  },
  {
   "cell_type": "code",
   "execution_count": null,
   "metadata": {
    "collapsed": true
   },
   "outputs": [],
   "source": [
    "# Find if the network is weakly connected\n"
   ]
  },
  {
   "cell_type": "code",
   "execution_count": null,
   "metadata": {
    "collapsed": true
   },
   "outputs": [],
   "source": [
    "# Find the average shortest path length"
   ]
  },
  {
   "cell_type": "code",
   "execution_count": null,
   "metadata": {
    "collapsed": true
   },
   "outputs": [],
   "source": [
    "# Plot the histogram of degree centrality\n"
   ]
  },
  {
   "cell_type": "markdown",
   "metadata": {},
   "source": [
    "^ Barabasi Albert model seems to work"
   ]
  },
  {
   "cell_type": "markdown",
   "metadata": {
    "collapsed": true
   },
   "source": [
    "#### Exercise! (Actually this is a game :D)\n",
    "\n",
    "How can we decrease the avg shortest path length of this network?\n",
    "\n",
    "Think of an effective way to add new edges to decrease the avg shortest path length.\n",
    "Let's see if we can come up with a nice way to do this, and the one who gets the highest decrease wins!!!\n",
    "\n",
    "The rules are simple:\n",
    "- You can't add more than 2% of the current edges( ~500 edges)"
   ]
  },
  {
   "cell_type": "code",
   "execution_count": null,
   "metadata": {
    "collapsed": true
   },
   "outputs": [],
   "source": []
  }
 ],
 "metadata": {
  "kernelspec": {
   "display_name": "Python 3",
   "language": "python",
   "name": "python3"
  },
  "language_info": {
   "codemirror_mode": {
    "name": "ipython",
    "version": 3
   },
   "file_extension": ".py",
   "mimetype": "text/x-python",
   "name": "python",
   "nbconvert_exporter": "python",
   "pygments_lexer": "ipython3",
   "version": "3.6.1"
  }
 },
 "nbformat": 4,
 "nbformat_minor": 2
}
